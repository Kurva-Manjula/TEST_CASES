{
 "cells": [
  {
   "cell_type": "code",
   "execution_count": 1,
   "id": "b6cc8c55",
   "metadata": {},
   "outputs": [],
   "source": [
    "import pandas as pd\n",
    "import seaborn as sns\n",
    "import matplotlib.pyplot as plt"
   ]
  },
  {
   "cell_type": "code",
   "execution_count": 8,
   "id": "208c0b4e",
   "metadata": {},
   "outputs": [],
   "source": [
    "df=pd.read_csv(\"C:/Users/admin/Downloads/11.abc.csv\",low_memory=False)"
   ]
  },
  {
   "cell_type": "code",
   "execution_count": 9,
   "id": "3841f7a2",
   "metadata": {},
   "outputs": [
    {
     "data": {
      "text/html": [
       "<div>\n",
       "<style scoped>\n",
       "    .dataframe tbody tr th:only-of-type {\n",
       "        vertical-align: middle;\n",
       "    }\n",
       "\n",
       "    .dataframe tbody tr th {\n",
       "        vertical-align: top;\n",
       "    }\n",
       "\n",
       "    .dataframe thead th {\n",
       "        text-align: right;\n",
       "    }\n",
       "</style>\n",
       "<table border=\"1\" class=\"dataframe\">\n",
       "  <thead>\n",
       "    <tr style=\"text-align: right;\">\n",
       "      <th></th>\n",
       "      <th>Registrar</th>\n",
       "      <th>Enrolment Agency</th>\n",
       "      <th>State</th>\n",
       "      <th>District</th>\n",
       "      <th>Sub District</th>\n",
       "      <th>Pin Code</th>\n",
       "      <th>Gender</th>\n",
       "      <th>Age</th>\n",
       "      <th>Aadhaar generated</th>\n",
       "      <th>Enrolment Rejected</th>\n",
       "      <th>Residents providing email</th>\n",
       "      <th>Residents providing mobile number</th>\n",
       "    </tr>\n",
       "  </thead>\n",
       "  <tbody>\n",
       "    <tr>\n",
       "      <th>0</th>\n",
       "      <td>Allahabad Bank</td>\n",
       "      <td>A-Onerealtors Pvt Ltd</td>\n",
       "      <td>Uttar Pradesh</td>\n",
       "      <td>Allahabad</td>\n",
       "      <td>Meja</td>\n",
       "      <td>212303</td>\n",
       "      <td>F</td>\n",
       "      <td>7</td>\n",
       "      <td>1</td>\n",
       "      <td>0</td>\n",
       "      <td>0</td>\n",
       "      <td>1</td>\n",
       "    </tr>\n",
       "    <tr>\n",
       "      <th>1</th>\n",
       "      <td>Allahabad Bank</td>\n",
       "      <td>Asha Security Guard Services</td>\n",
       "      <td>Uttar Pradesh</td>\n",
       "      <td>Sonbhadra</td>\n",
       "      <td>Robertsganj</td>\n",
       "      <td>231213</td>\n",
       "      <td>M</td>\n",
       "      <td>8</td>\n",
       "      <td>1</td>\n",
       "      <td>0</td>\n",
       "      <td>0</td>\n",
       "      <td>0</td>\n",
       "    </tr>\n",
       "    <tr>\n",
       "      <th>2</th>\n",
       "      <td>Allahabad Bank</td>\n",
       "      <td>SGS INDIA PVT LTD</td>\n",
       "      <td>Uttar Pradesh</td>\n",
       "      <td>Sultanpur</td>\n",
       "      <td>Sultanpur</td>\n",
       "      <td>227812</td>\n",
       "      <td>F</td>\n",
       "      <td>13</td>\n",
       "      <td>1</td>\n",
       "      <td>0</td>\n",
       "      <td>0</td>\n",
       "      <td>1</td>\n",
       "    </tr>\n",
       "    <tr>\n",
       "      <th>3</th>\n",
       "      <td>Allahabad Bank</td>\n",
       "      <td>Sri Ramraja Sarkar Lok Kalyan Trust</td>\n",
       "      <td>Uttar Pradesh</td>\n",
       "      <td>Shamli</td>\n",
       "      <td>Shamli</td>\n",
       "      <td>247775</td>\n",
       "      <td>M</td>\n",
       "      <td>6</td>\n",
       "      <td>1</td>\n",
       "      <td>0</td>\n",
       "      <td>0</td>\n",
       "      <td>1</td>\n",
       "    </tr>\n",
       "    <tr>\n",
       "      <th>4</th>\n",
       "      <td>Allahabad Bank</td>\n",
       "      <td>Transmoovers India</td>\n",
       "      <td>Uttar Pradesh</td>\n",
       "      <td>Gorakhpur</td>\n",
       "      <td>Sahjanwa</td>\n",
       "      <td>273001</td>\n",
       "      <td>M</td>\n",
       "      <td>8</td>\n",
       "      <td>1</td>\n",
       "      <td>0</td>\n",
       "      <td>0</td>\n",
       "      <td>1</td>\n",
       "    </tr>\n",
       "    <tr>\n",
       "      <th>...</th>\n",
       "      <td>...</td>\n",
       "      <td>...</td>\n",
       "      <td>...</td>\n",
       "      <td>...</td>\n",
       "      <td>...</td>\n",
       "      <td>...</td>\n",
       "      <td>...</td>\n",
       "      <td>...</td>\n",
       "      <td>...</td>\n",
       "      <td>...</td>\n",
       "      <td>...</td>\n",
       "      <td>...</td>\n",
       "    </tr>\n",
       "    <tr>\n",
       "      <th>440813</th>\n",
       "      <td>Women and Child Development Govt. of Jharkhand</td>\n",
       "      <td>Women and Child Development</td>\n",
       "      <td>Jharkhand</td>\n",
       "      <td>Palamu</td>\n",
       "      <td>Patan</td>\n",
       "      <td>822123</td>\n",
       "      <td>M</td>\n",
       "      <td>1</td>\n",
       "      <td>3</td>\n",
       "      <td>0</td>\n",
       "      <td>0</td>\n",
       "      <td>1</td>\n",
       "    </tr>\n",
       "    <tr>\n",
       "      <th>440814</th>\n",
       "      <td>Women and Child Development Govt. of Jharkhand</td>\n",
       "      <td>Women and Child Development</td>\n",
       "      <td>Jharkhand</td>\n",
       "      <td>Palamu</td>\n",
       "      <td>Patan</td>\n",
       "      <td>822123</td>\n",
       "      <td>M</td>\n",
       "      <td>2</td>\n",
       "      <td>1</td>\n",
       "      <td>0</td>\n",
       "      <td>0</td>\n",
       "      <td>1</td>\n",
       "    </tr>\n",
       "    <tr>\n",
       "      <th>440815</th>\n",
       "      <td>Women and Child Development Govt. of Jharkhand</td>\n",
       "      <td>Women and Child Development</td>\n",
       "      <td>Jharkhand</td>\n",
       "      <td>Palamu</td>\n",
       "      <td>Patan</td>\n",
       "      <td>822123</td>\n",
       "      <td>M</td>\n",
       "      <td>3</td>\n",
       "      <td>3</td>\n",
       "      <td>0</td>\n",
       "      <td>0</td>\n",
       "      <td>1</td>\n",
       "    </tr>\n",
       "    <tr>\n",
       "      <th>440816</th>\n",
       "      <td>Women and Child Development Govt. of Jharkhand</td>\n",
       "      <td>Women and Child Development</td>\n",
       "      <td>Jharkhand</td>\n",
       "      <td>Palamu</td>\n",
       "      <td>Patan</td>\n",
       "      <td>822123</td>\n",
       "      <td>M</td>\n",
       "      <td>4</td>\n",
       "      <td>1</td>\n",
       "      <td>0</td>\n",
       "      <td>0</td>\n",
       "      <td>0</td>\n",
       "    </tr>\n",
       "    <tr>\n",
       "      <th>440817</th>\n",
       "      <td>Women and Child Development Govt. of Jharkhand</td>\n",
       "      <td>Women and Child Development</td>\n",
       "      <td>Jharkhand</td>\n",
       "      <td>Ranchi</td>\n",
       "      <td>Ranchi</td>\n",
       "      <td>834002</td>\n",
       "      <td>F</td>\n",
       "      <td>3</td>\n",
       "      <td>1</td>\n",
       "      <td>0</td>\n",
       "      <td>0</td>\n",
       "      <td>1</td>\n",
       "    </tr>\n",
       "  </tbody>\n",
       "</table>\n",
       "<p>440818 rows × 12 columns</p>\n",
       "</div>"
      ],
      "text/plain": [
       "                                             Registrar  \\\n",
       "0                                       Allahabad Bank   \n",
       "1                                       Allahabad Bank   \n",
       "2                                       Allahabad Bank   \n",
       "3                                       Allahabad Bank   \n",
       "4                                       Allahabad Bank   \n",
       "...                                                ...   \n",
       "440813  Women and Child Development Govt. of Jharkhand   \n",
       "440814  Women and Child Development Govt. of Jharkhand   \n",
       "440815  Women and Child Development Govt. of Jharkhand   \n",
       "440816  Women and Child Development Govt. of Jharkhand   \n",
       "440817  Women and Child Development Govt. of Jharkhand   \n",
       "\n",
       "                           Enrolment Agency          State   District  \\\n",
       "0                     A-Onerealtors Pvt Ltd  Uttar Pradesh  Allahabad   \n",
       "1              Asha Security Guard Services  Uttar Pradesh  Sonbhadra   \n",
       "2                         SGS INDIA PVT LTD  Uttar Pradesh  Sultanpur   \n",
       "3       Sri Ramraja Sarkar Lok Kalyan Trust  Uttar Pradesh     Shamli   \n",
       "4                        Transmoovers India  Uttar Pradesh  Gorakhpur   \n",
       "...                                     ...            ...        ...   \n",
       "440813          Women and Child Development      Jharkhand     Palamu   \n",
       "440814          Women and Child Development      Jharkhand     Palamu   \n",
       "440815          Women and Child Development      Jharkhand     Palamu   \n",
       "440816          Women and Child Development      Jharkhand     Palamu   \n",
       "440817          Women and Child Development      Jharkhand     Ranchi   \n",
       "\n",
       "       Sub District Pin Code Gender  Age  Aadhaar generated  \\\n",
       "0              Meja   212303      F    7                  1   \n",
       "1       Robertsganj   231213      M    8                  1   \n",
       "2         Sultanpur   227812      F   13                  1   \n",
       "3            Shamli   247775      M    6                  1   \n",
       "4          Sahjanwa   273001      M    8                  1   \n",
       "...             ...      ...    ...  ...                ...   \n",
       "440813        Patan   822123      M    1                  3   \n",
       "440814        Patan   822123      M    2                  1   \n",
       "440815        Patan   822123      M    3                  3   \n",
       "440816        Patan   822123      M    4                  1   \n",
       "440817       Ranchi   834002      F    3                  1   \n",
       "\n",
       "        Enrolment Rejected  Residents providing email  \\\n",
       "0                        0                          0   \n",
       "1                        0                          0   \n",
       "2                        0                          0   \n",
       "3                        0                          0   \n",
       "4                        0                          0   \n",
       "...                    ...                        ...   \n",
       "440813                   0                          0   \n",
       "440814                   0                          0   \n",
       "440815                   0                          0   \n",
       "440816                   0                          0   \n",
       "440817                   0                          0   \n",
       "\n",
       "        Residents providing mobile number  \n",
       "0                                       1  \n",
       "1                                       0  \n",
       "2                                       1  \n",
       "3                                       1  \n",
       "4                                       1  \n",
       "...                                   ...  \n",
       "440813                                  1  \n",
       "440814                                  1  \n",
       "440815                                  1  \n",
       "440816                                  0  \n",
       "440817                                  1  \n",
       "\n",
       "[440818 rows x 12 columns]"
      ]
     },
     "execution_count": 9,
     "metadata": {},
     "output_type": "execute_result"
    }
   ],
   "source": [
    "df"
   ]
  },
  {
   "cell_type": "markdown",
   "id": "468e49f5",
   "metadata": {},
   "source": [
    "# 1. Find out the total number of cards approved by States?"
   ]
  },
  {
   "cell_type": "code",
   "execution_count": 12,
   "id": "5ecdb00f",
   "metadata": {},
   "outputs": [],
   "source": [
    "state_approval=df.groupby('State')['Aadhaar generated'].sum()"
   ]
  },
  {
   "cell_type": "code",
   "execution_count": 15,
   "id": "ac94f8eb",
   "metadata": {},
   "outputs": [
    {
     "data": {
      "text/plain": [
       "State\n",
       "Andaman and Nicobar Islands         5\n",
       "Andhra Pradesh                   5798\n",
       "Arunachal Pradesh                 913\n",
       "Assam                            3213\n",
       "Bihar                          162607\n",
       "Chandigarh                        259\n",
       "Chhattisgarh                     6604\n",
       "Dadra and Nagar Haveli            140\n",
       "Daman and Diu                     105\n",
       "Delhi                            8426\n",
       "Goa                              1167\n",
       "Gujarat                         34844\n",
       "Haryana                          6804\n",
       "Himachal Pradesh                 1547\n",
       "Jammu and Kashmir                1234\n",
       "Jharkhand                        9868\n",
       "Karnataka                       19764\n",
       "Kerala                          15143\n",
       "Lakshadweep                         4\n",
       "Madhya Pradesh                  53276\n",
       "Maharashtra                     26085\n",
       "Manipur                          1323\n",
       "Meghalaya                         277\n",
       "Mizoram                          6279\n",
       "Nagaland                          545\n",
       "Odisha                          18182\n",
       "Others                             12\n",
       "Puducherry                         83\n",
       "Punjab                           6506\n",
       "Rajasthan                       39570\n",
       "Sikkim                             50\n",
       "Tamil Nadu                      32485\n",
       "Telangana                        5018\n",
       "Tripura                           908\n",
       "Uttar Pradesh                  103767\n",
       "Uttarakhand                     13227\n",
       "West Bengal                    119901\n",
       "Name: Aadhaar generated, dtype: int64"
      ]
     },
     "execution_count": 15,
     "metadata": {},
     "output_type": "execute_result"
    }
   ],
   "source": [
    "state_approval"
   ]
  },
  {
   "cell_type": "markdown",
   "id": "58f8607f",
   "metadata": {},
   "source": [
    "# 2. Find out the total number of cards Enrolment rejected by states?"
   ]
  },
  {
   "cell_type": "code",
   "execution_count": 23,
   "id": "78d4bec6",
   "metadata": {},
   "outputs": [],
   "source": [
    "number_of_rejected_states=df.groupby('State')['Enrolment Rejected'].sum()"
   ]
  },
  {
   "cell_type": "code",
   "execution_count": 24,
   "id": "254fe357",
   "metadata": {},
   "outputs": [
    {
     "data": {
      "text/plain": [
       "State\n",
       "Andaman and Nicobar Islands       2\n",
       "Andhra Pradesh                  373\n",
       "Arunachal Pradesh                79\n",
       "Assam                            28\n",
       "Bihar                          7209\n",
       "Chandigarh                        9\n",
       "Chhattisgarh                    380\n",
       "Dadra and Nagar Haveli            3\n",
       "Daman and Diu                     2\n",
       "Delhi                           591\n",
       "Goa                             127\n",
       "Gujarat                        2500\n",
       "Haryana                         532\n",
       "Himachal Pradesh                123\n",
       "Jammu and Kashmir               204\n",
       "Jharkhand                       477\n",
       "Karnataka                      1445\n",
       "Kerala                          538\n",
       "Lakshadweep                       1\n",
       "Madhya Pradesh                 3509\n",
       "Maharashtra                    1818\n",
       "Manipur                         190\n",
       "Meghalaya                         2\n",
       "Mizoram                         185\n",
       "Nagaland                         43\n",
       "Odisha                         1596\n",
       "Others                            0\n",
       "Puducherry                       10\n",
       "Punjab                          421\n",
       "Rajasthan                      2035\n",
       "Sikkim                            2\n",
       "Tamil Nadu                     1193\n",
       "Telangana                       274\n",
       "Tripura                          62\n",
       "Uttar Pradesh                  5286\n",
       "Uttarakhand                     955\n",
       "West Bengal                    6372\n",
       "Name: Enrolment Rejected, dtype: int64"
      ]
     },
     "execution_count": 24,
     "metadata": {},
     "output_type": "execute_result"
    }
   ],
   "source": [
    "number_of_rejected_states"
   ]
  },
  {
   "cell_type": "markdown",
   "id": "29c1da54",
   "metadata": {},
   "source": [
    "# 3. Find out the total number of cards approved by Districts?"
   ]
  },
  {
   "cell_type": "code",
   "execution_count": 26,
   "id": "5aff293e",
   "metadata": {},
   "outputs": [],
   "source": [
    "district_approval=df.groupby('District')['Aadhaar generated'].sum()"
   ]
  },
  {
   "cell_type": "code",
   "execution_count": 27,
   "id": "5a71f1ac",
   "metadata": {},
   "outputs": [
    {
     "data": {
      "text/plain": [
       "District\n",
       "Adilabad         265\n",
       "Agra            2283\n",
       "Ahmadnagar       476\n",
       "Ahmedabad       4212\n",
       "Aizawl          1095\n",
       "                ... \n",
       "Wokha             32\n",
       "Yadgir           325\n",
       "Yamuna Nagar     197\n",
       "Yavatmal         712\n",
       "Zunheboto          8\n",
       "Name: Aadhaar generated, Length: 664, dtype: int64"
      ]
     },
     "execution_count": 27,
     "metadata": {},
     "output_type": "execute_result"
    }
   ],
   "source": [
    "district_approval"
   ]
  },
  {
   "cell_type": "markdown",
   "id": "e6353b40",
   "metadata": {},
   "source": [
    "# 4. Find out the total number of cards rejected by Districts?"
   ]
  },
  {
   "cell_type": "code",
   "execution_count": 31,
   "id": "008a7c18",
   "metadata": {},
   "outputs": [],
   "source": [
    "district_rejection=df.groupby('District')['Enrolment Rejected'].sum()"
   ]
  },
  {
   "cell_type": "code",
   "execution_count": 32,
   "id": "c3cd0d60",
   "metadata": {},
   "outputs": [
    {
     "data": {
      "text/plain": [
       "District\n",
       "Adilabad          7\n",
       "Agra            137\n",
       "Ahmadnagar       45\n",
       "Ahmedabad       278\n",
       "Aizawl          111\n",
       "               ... \n",
       "Wokha             2\n",
       "Yadgir           28\n",
       "Yamuna Nagar     11\n",
       "Yavatmal         78\n",
       "Zunheboto         0\n",
       "Name: Enrolment Rejected, Length: 664, dtype: int64"
      ]
     },
     "execution_count": 32,
     "metadata": {},
     "output_type": "execute_result"
    }
   ],
   "source": [
    "district_rejection"
   ]
  },
  {
   "cell_type": "markdown",
   "id": "96b8d400",
   "metadata": {},
   "source": [
    "# 5.Total Count Gender Based?"
   ]
  },
  {
   "cell_type": "code",
   "execution_count": 33,
   "id": "7fd18304",
   "metadata": {},
   "outputs": [],
   "source": [
    "gender_count=df.groupby('Gender').size()"
   ]
  },
  {
   "cell_type": "code",
   "execution_count": 34,
   "id": "abb2825b",
   "metadata": {},
   "outputs": [
    {
     "data": {
      "text/plain": [
       "Gender\n",
       "F    148013\n",
       "M    292798\n",
       "T         7\n",
       "dtype: int64"
      ]
     },
     "execution_count": 34,
     "metadata": {},
     "output_type": "execute_result"
    }
   ],
   "source": [
    "gender_count"
   ]
  },
  {
   "cell_type": "code",
   "execution_count": null,
   "id": "feb87b25",
   "metadata": {},
   "outputs": [],
   "source": [
    "6.Count Records age <25, age between 25 &35, age>45 "
   ]
  },
  {
   "cell_type": "code",
   "execution_count": 35,
   "id": "5b0abdc8",
   "metadata": {},
   "outputs": [],
   "source": [
    "count_age_25=len(df[(df['Age']>=25)&(df['Age']<=35)])"
   ]
  },
  {
   "cell_type": "code",
   "execution_count": 37,
   "id": "dcb257a6",
   "metadata": {},
   "outputs": [
    {
     "data": {
      "text/plain": [
       "62512"
      ]
     },
     "execution_count": 37,
     "metadata": {},
     "output_type": "execute_result"
    }
   ],
   "source": [
    "count_age_25"
   ]
  },
  {
   "cell_type": "code",
   "execution_count": 36,
   "id": "d4bd1ae6",
   "metadata": {},
   "outputs": [],
   "source": [
    "count_age_35=len(df[(df['Age']>=25)&(df['Age']>35)])"
   ]
  },
  {
   "cell_type": "code",
   "execution_count": 38,
   "id": "56ec3cdc",
   "metadata": {},
   "outputs": [
    {
     "data": {
      "text/plain": [
       "81470"
      ]
     },
     "execution_count": 38,
     "metadata": {},
     "output_type": "execute_result"
    }
   ],
   "source": [
    "count_age_35"
   ]
  },
  {
   "cell_type": "code",
   "execution_count": null,
   "id": "73726597",
   "metadata": {},
   "outputs": [],
   "source": []
  }
 ],
 "metadata": {
  "kernelspec": {
   "display_name": "Python 3 (ipykernel)",
   "language": "python",
   "name": "python3"
  },
  "language_info": {
   "codemirror_mode": {
    "name": "ipython",
    "version": 3
   },
   "file_extension": ".py",
   "mimetype": "text/x-python",
   "name": "python",
   "nbconvert_exporter": "python",
   "pygments_lexer": "ipython3",
   "version": "3.11.3"
  }
 },
 "nbformat": 4,
 "nbformat_minor": 5
}
